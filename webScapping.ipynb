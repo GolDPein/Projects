{
 "cells": [
  {
   "cell_type": "markdown",
   "metadata": {},
   "source": [
    "**GOAL**: Create a script for web scraping to scrape reviews of the Messenger app, i.e. get them into Python, and then analyse them"
   ]
  },
  {
   "cell_type": "markdown",
   "metadata": {},
   "source": [
    "https://play.google.com/store/apps/details?id=com.facebook.orca&hl=en   \n",
    "https://www.flipkart.com/laptops/~buyback-guarantee-on-laptops-/pr?sid=6bo%2Cb5g&uniqBStoreParam1=val1&wid=11.productCard.PMU_V2"
   ]
  },
  {
   "cell_type": "code",
   "execution_count": 47,
   "metadata": {},
   "outputs": [],
   "source": [
    "import requests, bs4\n",
    "import pandas as pd"
   ]
  },
  {
   "cell_type": "markdown",
   "metadata": {},
   "source": [
    "`getting HTML from the Google Play web page`"
   ]
  },
  {
   "cell_type": "code",
   "execution_count": 20,
   "metadata": {},
   "outputs": [],
   "source": [
    "# url = \"https://play.google.com/store/apps/details?id=com.facebook.orca&hl=en\"\n",
    "url = \"https://www.flipkart.com/laptops/~buyback-guarantee-on-laptops-/pr?sid=6bo%2Cb5g&uniqBStoreParam1=val1&wid=11.productCard.PMU_V2\"\n",
    "req = requests.get(url)"
   ]
  },
  {
   "cell_type": "markdown",
   "metadata": {},
   "source": [
    "`create a bs4 object`"
   ]
  },
  {
   "cell_type": "code",
   "execution_count": 21,
   "metadata": {},
   "outputs": [],
   "source": [
    "obj_html = bs4.BeautifulSoup(req.text, \"html5lib\")"
   ]
  },
  {
   "cell_type": "markdown",
   "metadata": {},
   "source": [
    "*EXAMPLE*"
   ]
  },
  {
   "cell_type": "code",
   "execution_count": 22,
   "metadata": {},
   "outputs": [],
   "source": [
    "#obj_html.select('div')"
   ]
  },
  {
   "cell_type": "code",
   "execution_count": 23,
   "metadata": {},
   "outputs": [],
   "source": [
    "#obj_html.select('.QKtxw')     #Some Class"
   ]
  },
  {
   "cell_type": "code",
   "execution_count": 29,
   "metadata": {},
   "outputs": [],
   "source": [
    "#obj_html.select('._31qSD5')      #Some Id"
   ]
  },
  {
   "cell_type": "code",
   "execution_count": 32,
   "metadata": {},
   "outputs": [],
   "source": [
    "# getting all the text inside class = \"review-body\"\n",
    "reviews = obj_html.select('._31qSD5')"
   ]
  },
  {
   "cell_type": "code",
   "execution_count": 33,
   "metadata": {},
   "outputs": [
    {
     "name": "stdout",
     "output_type": "stream",
     "text": [
      "<class 'list'>\n",
      "6\n"
     ]
    }
   ],
   "source": [
    "print(type(reviews))\n",
    "print(len(reviews))"
   ]
  },
  {
   "cell_type": "code",
   "execution_count": 19,
   "metadata": {},
   "outputs": [
    {
     "data": {
      "text/plain": [
       "[]"
      ]
     },
     "execution_count": 19,
     "metadata": {},
     "output_type": "execute_result"
    }
   ],
   "source": [
    "# obj_html.select('.zc7KVe')"
   ]
  },
  {
   "cell_type": "code",
   "execution_count": 51,
   "metadata": {},
   "outputs": [],
   "source": [
    "name_of_product = [x.find('div', attrs={'class':'_3wU53n'}) for x in reviews]"
   ]
  },
  {
   "cell_type": "code",
   "execution_count": 43,
   "metadata": {},
   "outputs": [
    {
     "data": {
      "text/plain": [
       "[<div class=\"_3wU53n\">Apple MacBook Air Core i5 5th Gen - (8 GB/128 GB SSD/Mac OS Sierra) MQD32HN/A A1466</div>,\n",
       " <div class=\"_3wU53n\">HP Core i5 7th Gen - (8 GB/1 TB HDD/Windows 10 Home/4 GB Graphics) 15-au623tx Laptop</div>,\n",
       " <div class=\"_3wU53n\">Lenovo Core i3 6th Gen - (4 GB/1 TB HDD/Windows 10 Home) IP 320E Laptop</div>,\n",
       " <div class=\"_3wU53n\">Lenovo Core i5 7th Gen - (8 GB/1 TB HDD/DOS/2 GB Graphics) IP 320-15IKB Laptop</div>,\n",
       " <div class=\"_3wU53n\">Lenovo Core i5 7th Gen - (8 GB/2 TB HDD/Windows 10 Home/4 GB Graphics) IP 520 Laptop</div>,\n",
       " <div class=\"_3wU53n\">Lenovo Ideapad Core i5 7th Gen - (8 GB/1 TB HDD/Windows 10 Home/2 GB Graphics) IP 320-15IKB Laptop</div>]"
      ]
     },
     "execution_count": 43,
     "metadata": {},
     "output_type": "execute_result"
    }
   ],
   "source": [
    "name_of_product"
   ]
  },
  {
   "cell_type": "code",
   "execution_count": 45,
   "metadata": {},
   "outputs": [],
   "source": [
    "price_of_product = [x.find('div', attrs={'class':'_1vC4OE _2rQ-NK'}) for x in reviews]"
   ]
  },
  {
   "cell_type": "code",
   "execution_count": 46,
   "metadata": {},
   "outputs": [
    {
     "data": {
      "text/plain": [
       "[<div class=\"_1vC4OE _2rQ-NK\">₹63,990</div>,\n",
       " <div class=\"_1vC4OE _2rQ-NK\">₹63,854</div>,\n",
       " <div class=\"_1vC4OE _2rQ-NK\">₹40,000</div>,\n",
       " <div class=\"_1vC4OE _2rQ-NK\">₹52,990</div>,\n",
       " <div class=\"_1vC4OE _2rQ-NK\">₹75,500</div>,\n",
       " <div class=\"_1vC4OE _2rQ-NK\">₹52,990</div>]"
      ]
     },
     "execution_count": 46,
     "metadata": {},
     "output_type": "execute_result"
    }
   ],
   "source": [
    "price_of_product"
   ]
  },
  {
   "cell_type": "code",
   "execution_count": 48,
   "metadata": {},
   "outputs": [],
   "source": [
    "prod_set = pd.DataFrame({\"Product Name\": name_of_product,\n",
    "                        \"Price\": price_of_product})"
   ]
  },
  {
   "cell_type": "code",
   "execution_count": 49,
   "metadata": {},
   "outputs": [
    {
     "data": {
      "text/html": [
       "<div>\n",
       "<style scoped>\n",
       "    .dataframe tbody tr th:only-of-type {\n",
       "        vertical-align: middle;\n",
       "    }\n",
       "\n",
       "    .dataframe tbody tr th {\n",
       "        vertical-align: top;\n",
       "    }\n",
       "\n",
       "    .dataframe thead th {\n",
       "        text-align: right;\n",
       "    }\n",
       "</style>\n",
       "<table border=\"1\" class=\"dataframe\">\n",
       "  <thead>\n",
       "    <tr style=\"text-align: right;\">\n",
       "      <th></th>\n",
       "      <th>Product Name</th>\n",
       "      <th>Price</th>\n",
       "    </tr>\n",
       "  </thead>\n",
       "  <tbody>\n",
       "    <tr>\n",
       "      <td>0</td>\n",
       "      <td>[Apple MacBook Air Core i5 5th Gen - (8 GB/128...</td>\n",
       "      <td>[₹63,990]</td>\n",
       "    </tr>\n",
       "    <tr>\n",
       "      <td>1</td>\n",
       "      <td>[HP Core i5 7th Gen - (8 GB/1 TB HDD/Windows 1...</td>\n",
       "      <td>[₹63,854]</td>\n",
       "    </tr>\n",
       "    <tr>\n",
       "      <td>2</td>\n",
       "      <td>[Lenovo Core i3 6th Gen - (4 GB/1 TB HDD/Windo...</td>\n",
       "      <td>[₹40,000]</td>\n",
       "    </tr>\n",
       "    <tr>\n",
       "      <td>3</td>\n",
       "      <td>[Lenovo Core i5 7th Gen - (8 GB/1 TB HDD/DOS/2...</td>\n",
       "      <td>[₹52,990]</td>\n",
       "    </tr>\n",
       "    <tr>\n",
       "      <td>4</td>\n",
       "      <td>[Lenovo Core i5 7th Gen - (8 GB/2 TB HDD/Windo...</td>\n",
       "      <td>[₹75,500]</td>\n",
       "    </tr>\n",
       "    <tr>\n",
       "      <td>5</td>\n",
       "      <td>[Lenovo Ideapad Core i5 7th Gen - (8 GB/1 TB H...</td>\n",
       "      <td>[₹52,990]</td>\n",
       "    </tr>\n",
       "  </tbody>\n",
       "</table>\n",
       "</div>"
      ],
      "text/plain": [
       "                                        Product Name      Price\n",
       "0  [Apple MacBook Air Core i5 5th Gen - (8 GB/128...  [₹63,990]\n",
       "1  [HP Core i5 7th Gen - (8 GB/1 TB HDD/Windows 1...  [₹63,854]\n",
       "2  [Lenovo Core i3 6th Gen - (4 GB/1 TB HDD/Windo...  [₹40,000]\n",
       "3  [Lenovo Core i5 7th Gen - (8 GB/1 TB HDD/DOS/2...  [₹52,990]\n",
       "4  [Lenovo Core i5 7th Gen - (8 GB/2 TB HDD/Windo...  [₹75,500]\n",
       "5  [Lenovo Ideapad Core i5 7th Gen - (8 GB/1 TB H...  [₹52,990]"
      ]
     },
     "execution_count": 49,
     "metadata": {},
     "output_type": "execute_result"
    }
   ],
   "source": [
    "prod_set"
   ]
  },
  {
   "cell_type": "code",
   "execution_count": null,
   "metadata": {},
   "outputs": [],
   "source": []
  }
 ],
 "metadata": {
  "kernelspec": {
   "display_name": "Python 3",
   "language": "python",
   "name": "python3"
  },
  "language_info": {
   "codemirror_mode": {
    "name": "ipython",
    "version": 3
   },
   "file_extension": ".py",
   "mimetype": "text/x-python",
   "name": "python",
   "nbconvert_exporter": "python",
   "pygments_lexer": "ipython3",
   "version": "3.7.4"
  }
 },
 "nbformat": 4,
 "nbformat_minor": 4
}
